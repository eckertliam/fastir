{
 "cells": [
  {
   "cell_type": "code",
   "execution_count": 13,
   "metadata": {},
   "outputs": [
    {
     "name": "stdout",
     "output_type": "stream",
     "text": [
      "%entry\n",
      "    call 3\n",
      "    getelementptr 1\n",
      "    store 2\n",
      "    alloca 21\n",
      "    load 2\n",
      "%while.cond\n",
      "    call 2\n",
      "    icmp 1\n",
      "%while.body\n",
      "    getelementptr 3\n",
      "    store 1\n",
      "    load 10\n",
      "    call 7\n",
      "%while.end\n"
     ]
    }
   ],
   "source": [
    "from fastir import DataStream\n",
    "\n",
    "from llvm_tools import ModFeatures\n",
    "\n",
    "bc = open(\"test.bc\", \"rb\").read()\n",
    "\n",
    "mod = ModFeatures(bc)\n",
    "\n",
    "bbs = mod.fn_feats['FLA_Trsm_llt_blk_var2'].bb_feats\n",
    "for bb in bbs.values():\n",
    "    print(bb.name)\n",
    "    for (instr, count) in bb.histogram.items():\n",
    "        print(\"    \" + instr + \" \" + str(count))"
   ]
  }
 ],
 "metadata": {
  "kernelspec": {
   "display_name": "fastir-63TG2v_m-py3.12",
   "language": "python",
   "name": "python3"
  },
  "language_info": {
   "codemirror_mode": {
    "name": "ipython",
    "version": 3
   },
   "file_extension": ".py",
   "mimetype": "text/x-python",
   "name": "python",
   "nbconvert_exporter": "python",
   "pygments_lexer": "ipython3",
   "version": "3.12.10"
  }
 },
 "nbformat": 4,
 "nbformat_minor": 2
}
